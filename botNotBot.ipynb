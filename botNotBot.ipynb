{
 "cells": [
  {
   "cell_type": "code",
   "execution_count": 21,
   "metadata": {},
   "outputs": [],
   "source": [
    "import os"
   ]
  },
  {
   "cell_type": "code",
   "execution_count": 22,
   "metadata": {},
   "outputs": [
    {
     "data": {
      "text/plain": [
       "['.DS_Store',\n",
       " 'botNotBot.ipynb',\n",
       " 'Dataset-README',\n",
       " '.ipynb_checkpoints',\n",
       " '.git']"
      ]
     },
     "execution_count": 22,
     "metadata": {},
     "output_type": "execute_result"
    }
   ],
   "source": [
    "os.listdir()"
   ]
  },
  {
   "cell_type": "code",
   "execution_count": 23,
   "metadata": {},
   "outputs": [],
   "source": [
    "pathEn = \"/Users/kram/Downloads/botOrNot-en_es/en\""
   ]
  },
  {
   "cell_type": "markdown",
   "metadata": {},
   "source": [
    "First of all, we will create a procedure to be tested on a single file.\n",
    "\n",
    "After this first step will be completed, we will extend this procedure to create a complete dataframe"
   ]
  },
  {
   "cell_type": "code",
   "execution_count": 24,
   "metadata": {},
   "outputs": [],
   "source": [
    "testfile = \"/Users/kram/Downloads/botOrNot-en_es/en/1a5b808546838869bc39cebdbad951e3.xml\""
   ]
  },
  {
   "cell_type": "code",
   "execution_count": 25,
   "metadata": {},
   "outputs": [],
   "source": [
    "import pandas as pd\n",
    "import xml.etree.ElementTree as ET\n",
    "import io\n",
    "\n",
    "def iter_docs(author):\n",
    "    '''This function extracts the text and the language from the XML'''\n",
    "    author_attr = author.attrib\n",
    "    for doc in author.iter('document'):\n",
    "        doc_dict = author_attr.copy()\n",
    "        doc_dict.update(doc.attrib)\n",
    "        doc_dict['data'] = doc.text\n",
    "        yield doc_dict\n",
    "\n",
    "xml_data = open(testfile, \"r\") # Opening the text file\n",
    "etree = ET.parse(xml_data) # Create an ElementTree object \n",
    "df = pd.DataFrame(list(iter_docs(etree.getroot()))) #Append the info to a pandas dataframe"
   ]
  },
  {
   "cell_type": "code",
   "execution_count": 26,
   "metadata": {},
   "outputs": [
    {
     "data": {
      "text/html": [
       "<div>\n",
       "<style scoped>\n",
       "    .dataframe tbody tr th:only-of-type {\n",
       "        vertical-align: middle;\n",
       "    }\n",
       "\n",
       "    .dataframe tbody tr th {\n",
       "        vertical-align: top;\n",
       "    }\n",
       "\n",
       "    .dataframe thead th {\n",
       "        text-align: right;\n",
       "    }\n",
       "</style>\n",
       "<table border=\"1\" class=\"dataframe\">\n",
       "  <thead>\n",
       "    <tr style=\"text-align: right;\">\n",
       "      <th></th>\n",
       "      <th>data</th>\n",
       "      <th>lang</th>\n",
       "    </tr>\n",
       "  </thead>\n",
       "  <tbody>\n",
       "    <tr>\n",
       "      <th>0</th>\n",
       "      <td>1:7 Wherefore she went after their families: o...</td>\n",
       "      <td>en</td>\n",
       "    </tr>\n",
       "    <tr>\n",
       "      <th>1</th>\n",
       "      <td>And he put his hand over the host: and they ga...</td>\n",
       "      <td>en</td>\n",
       "    </tr>\n",
       "    <tr>\n",
       "      <th>2</th>\n",
       "      <td>65:18 But be ye far from the Philistines.</td>\n",
       "      <td>en</td>\n",
       "    </tr>\n",
       "    <tr>\n",
       "      <th>3</th>\n",
       "      <td>4:29 And rose up, and went out.</td>\n",
       "      <td>en</td>\n",
       "    </tr>\n",
       "    <tr>\n",
       "      <th>4</th>\n",
       "      <td>24:13 My son, keep my mouth hath spoken, sayin...</td>\n",
       "      <td>en</td>\n",
       "    </tr>\n",
       "    <tr>\n",
       "      <th>5</th>\n",
       "      <td>30:21 And afterwards she bare unto him.</td>\n",
       "      <td>en</td>\n",
       "    </tr>\n",
       "    <tr>\n",
       "      <th>6</th>\n",
       "      <td>And on the ground, and took Rebekah, and said ...</td>\n",
       "      <td>en</td>\n",
       "    </tr>\n",
       "    <tr>\n",
       "      <th>7</th>\n",
       "      <td>13:10 And I the LORD came unto Elim: and in th...</td>\n",
       "      <td>en</td>\n",
       "    </tr>\n",
       "    <tr>\n",
       "      <th>8</th>\n",
       "      <td>And his servants for his issue.</td>\n",
       "      <td>en</td>\n",
       "    </tr>\n",
       "    <tr>\n",
       "      <th>9</th>\n",
       "      <td>20:3 And cast him down: deliver my people shal...</td>\n",
       "      <td>en</td>\n",
       "    </tr>\n",
       "  </tbody>\n",
       "</table>\n",
       "</div>"
      ],
      "text/plain": [
       "                                                data lang\n",
       "0  1:7 Wherefore she went after their families: o...   en\n",
       "1  And he put his hand over the host: and they ga...   en\n",
       "2          65:18 But be ye far from the Philistines.   en\n",
       "3                    4:29 And rose up, and went out.   en\n",
       "4  24:13 My son, keep my mouth hath spoken, sayin...   en\n",
       "5            30:21 And afterwards she bare unto him.   en\n",
       "6  And on the ground, and took Rebekah, and said ...   en\n",
       "7  13:10 And I the LORD came unto Elim: and in th...   en\n",
       "8                    And his servants for his issue.   en\n",
       "9  20:3 And cast him down: deliver my people shal...   en"
      ]
     },
     "execution_count": 26,
     "metadata": {},
     "output_type": "execute_result"
    }
   ],
   "source": [
    "df.head(10)"
   ]
  },
  {
   "cell_type": "code",
   "execution_count": 27,
   "metadata": {},
   "outputs": [
    {
     "data": {
      "text/plain": [
       "'1:7 Wherefore she went after their families: of Sered, the family of the priests, and the light shine upon thy head; for I fear the LORD.'"
      ]
     },
     "execution_count": 27,
     "metadata": {},
     "output_type": "execute_result"
    }
   ],
   "source": [
    "df['data'][0]"
   ]
  },
  {
   "cell_type": "code",
   "execution_count": 28,
   "metadata": {},
   "outputs": [],
   "source": [
    "# Getting ID to insert in the dataframe\n",
    "\n",
    "filename = testfile.split(\"/\")[-1].split(\".\")[0]"
   ]
  },
  {
   "cell_type": "code",
   "execution_count": 29,
   "metadata": {},
   "outputs": [
    {
     "data": {
      "text/plain": [
       "'1a5b808546838869bc39cebdbad951e3'"
      ]
     },
     "execution_count": 29,
     "metadata": {},
     "output_type": "execute_result"
    }
   ],
   "source": [
    "filename"
   ]
  },
  {
   "cell_type": "markdown",
   "metadata": {},
   "source": [
    "We can now try to extend the procedure to the full directory."
   ]
  },
  {
   "cell_type": "code",
   "execution_count": 30,
   "metadata": {},
   "outputs": [
    {
     "name": "stdout",
     "output_type": "stream",
     "text": [
      "Total running time is 71.66568803787231\n"
     ]
    }
   ],
   "source": [
    "import time\n",
    "\n",
    "# Creating empty dataframe\n",
    "dataEn = pd.DataFrame()\n",
    "\n",
    "# Monitoring time to load the files\n",
    "start = time.time()\n",
    "\n",
    "for root, dirs, files in os.walk(pathEn):\n",
    "    for file in files:\n",
    "        if file == 'truth.txt':\n",
    "            continue\n",
    "        else: \n",
    "            try:\n",
    "                pathToFile = root + '/' + file # Creating path\n",
    "                # print(pathToFile) # Just for debugging\n",
    "                xml_data = open(pathToFile, \"r\", encoding=\"utf8\") # Opening the text file\n",
    "                etree = ET.parse(xml_data) # Create an ElementTree object\n",
    "                data = list(iter_docs(etree.getroot())) # Create a list of dictionaries with the data\n",
    "                filename = file.split(\".\")[0] # Get filename\n",
    "                for dictionary in data: # Loop through the dictionary\n",
    "                    dictionary['ID'] = filename # Append filename\n",
    "                dataEn = dataEn.append(data)  # Append the list of dictionary to a pandas dataframe\n",
    "                \n",
    "            # If the file is not valid, skip it\n",
    "            except ValueError as e:\n",
    "                print(e)\n",
    "                continue\n",
    "            \n",
    "end = time.time()\n",
    "print(\"Total running time is\", end - start)"
   ]
  },
  {
   "cell_type": "code",
   "execution_count": 31,
   "metadata": {
    "scrolled": true
   },
   "outputs": [
    {
     "data": {
      "text/html": [
       "<div>\n",
       "<style scoped>\n",
       "    .dataframe tbody tr th:only-of-type {\n",
       "        vertical-align: middle;\n",
       "    }\n",
       "\n",
       "    .dataframe tbody tr th {\n",
       "        vertical-align: top;\n",
       "    }\n",
       "\n",
       "    .dataframe thead th {\n",
       "        text-align: right;\n",
       "    }\n",
       "</style>\n",
       "<table border=\"1\" class=\"dataframe\">\n",
       "  <thead>\n",
       "    <tr style=\"text-align: right;\">\n",
       "      <th></th>\n",
       "      <th>ID</th>\n",
       "      <th>data</th>\n",
       "      <th>lang</th>\n",
       "    </tr>\n",
       "  </thead>\n",
       "  <tbody>\n",
       "    <tr>\n",
       "      <th>0</th>\n",
       "      <td>867be96f95dfc4e24541d19c6a5ab8bf</td>\n",
       "      <td>Alex is too nice for love island :(</td>\n",
       "      <td>en</td>\n",
       "    </tr>\n",
       "    <tr>\n",
       "      <th>1</th>\n",
       "      <td>867be96f95dfc4e24541d19c6a5ab8bf</td>\n",
       "      <td>RT @STVNews: Teenager charged with rape of wom...</td>\n",
       "      <td>en</td>\n",
       "    </tr>\n",
       "    <tr>\n",
       "      <th>2</th>\n",
       "      <td>867be96f95dfc4e24541d19c6a5ab8bf</td>\n",
       "      <td>@LipsTaco @jennyhastie</td>\n",
       "      <td>en</td>\n",
       "    </tr>\n",
       "    <tr>\n",
       "      <th>3</th>\n",
       "      <td>867be96f95dfc4e24541d19c6a5ab8bf</td>\n",
       "      <td>@RyanDunbar8 happy bday Ryan have the best day...</td>\n",
       "      <td>en</td>\n",
       "    </tr>\n",
       "    <tr>\n",
       "      <th>4</th>\n",
       "      <td>867be96f95dfc4e24541d19c6a5ab8bf</td>\n",
       "      <td>@jennyhastie @bootywhispers I just wanna let j...</td>\n",
       "      <td>en</td>\n",
       "    </tr>\n",
       "    <tr>\n",
       "      <th>5</th>\n",
       "      <td>867be96f95dfc4e24541d19c6a5ab8bf</td>\n",
       "      <td>@bootywhispers @jennyhastie what would u do ?</td>\n",
       "      <td>en</td>\n",
       "    </tr>\n",
       "    <tr>\n",
       "      <th>6</th>\n",
       "      <td>867be96f95dfc4e24541d19c6a5ab8bf</td>\n",
       "      <td>@Aidsterrr Asking for a mate :/ wee bit line o...</td>\n",
       "      <td>en</td>\n",
       "    </tr>\n",
       "    <tr>\n",
       "      <th>7</th>\n",
       "      <td>867be96f95dfc4e24541d19c6a5ab8bf</td>\n",
       "      <td>Wonder what a Sunday without the fear feels like</td>\n",
       "      <td>en</td>\n",
       "    </tr>\n",
       "    <tr>\n",
       "      <th>8</th>\n",
       "      <td>867be96f95dfc4e24541d19c6a5ab8bf</td>\n",
       "      <td>RT @liamfrenchx: Brutal getn wee flashbacks a ...</td>\n",
       "      <td>en</td>\n",
       "    </tr>\n",
       "    <tr>\n",
       "      <th>9</th>\n",
       "      <td>867be96f95dfc4e24541d19c6a5ab8bf</td>\n",
       "      <td>Went to a&amp;amp;e last night myself after I lock...</td>\n",
       "      <td>en</td>\n",
       "    </tr>\n",
       "  </tbody>\n",
       "</table>\n",
       "</div>"
      ],
      "text/plain": [
       "                                 ID  \\\n",
       "0  867be96f95dfc4e24541d19c6a5ab8bf   \n",
       "1  867be96f95dfc4e24541d19c6a5ab8bf   \n",
       "2  867be96f95dfc4e24541d19c6a5ab8bf   \n",
       "3  867be96f95dfc4e24541d19c6a5ab8bf   \n",
       "4  867be96f95dfc4e24541d19c6a5ab8bf   \n",
       "5  867be96f95dfc4e24541d19c6a5ab8bf   \n",
       "6  867be96f95dfc4e24541d19c6a5ab8bf   \n",
       "7  867be96f95dfc4e24541d19c6a5ab8bf   \n",
       "8  867be96f95dfc4e24541d19c6a5ab8bf   \n",
       "9  867be96f95dfc4e24541d19c6a5ab8bf   \n",
       "\n",
       "                                                data lang  \n",
       "0                Alex is too nice for love island :(   en  \n",
       "1  RT @STVNews: Teenager charged with rape of wom...   en  \n",
       "2                             @LipsTaco @jennyhastie   en  \n",
       "3  @RyanDunbar8 happy bday Ryan have the best day...   en  \n",
       "4  @jennyhastie @bootywhispers I just wanna let j...   en  \n",
       "5      @bootywhispers @jennyhastie what would u do ?   en  \n",
       "6  @Aidsterrr Asking for a mate :/ wee bit line o...   en  \n",
       "7   Wonder what a Sunday without the fear feels like   en  \n",
       "8  RT @liamfrenchx: Brutal getn wee flashbacks a ...   en  \n",
       "9  Went to a&amp;e last night myself after I lock...   en  "
      ]
     },
     "execution_count": 31,
     "metadata": {},
     "output_type": "execute_result"
    }
   ],
   "source": [
    "dataEn.head(10)"
   ]
  },
  {
   "cell_type": "code",
   "execution_count": 32,
   "metadata": {},
   "outputs": [
    {
     "data": {
      "text/plain": [
       "0                  Alex is too nice for love island :(\n",
       "0    RT @AlexanderRugaev: The Crypto Finance Ecosys...\n",
       "0    Check out these awesome cooking t-shirts &amp;...\n",
       "0    YEWWinfo Tiny Nanoparticles to Treat a Huge Pr...\n",
       "0    Sr. Project Manager Water / Wastewater Enginee...\n",
       "0                      @lolzdonz @beckyfrancesxo !!!!!\n",
       "0    @jennycastle96 Ahaha last time acting reckless 😂😂\n",
       "0    Apr. 20/2002 - The brodway show Jesus Christ S...\n",
       "0    I'm so excited for the boojum I'm about to get...\n",
       "0    Killer bonus here 70+ page free download to he...\n",
       "0                        boooo https://t.co/Q32Ttd9FIH\n",
       "0    Create a life you love.\\n\\n#quote #life https:...\n",
       "0    @puretemerity The archaeology on Arran is amaz...\n",
       "0    Why Silicon Valley can’t fix itself\\n\\nhttps:/...\n",
       "0    @PayChen @designtaxi So you have place to put ...\n",
       "0    #GameofThrones #ThorosofMyr: There's no story....\n",
       "0    the amount of pride flags he has around him, a...\n",
       "0    @mike_mcgrail Pretty sure I seen your doppelga...\n",
       "0        Most games are lost, not won! - Casey Stengel\n",
       "0       a person wearing a hat https://t.co/UqHgJy7ji7\n",
       "0    Why the ‘Manhattan Madam’ Is Ensnared in the M...\n",
       "0    Probably going to visit the folks in T.O. in t...\n",
       "0    I painted \"Easy-going Alexander Fleming\" after...\n",
       "0    Check out this Big-Dog Pet Fountain - Keeps Fr...\n",
       "0    Just commented on @thejournal_ie: Poll: Did yo...\n",
       "0    RT @jonathansteel: Speaker from @SatAppsCatapu...\n",
       "0    Then I ran out of our database, so we rooted y...\n",
       "0    The cause of spiritual life for the spirituall...\n",
       "0    There's A New \"Deadpool 2\" Trailer And Holy He...\n",
       "0             © @5sosupdateww ] https//tco/1ukhqdtduy.\n",
       "                           ...                        \n",
       "0    RT @IainGAnderson: Glad you were able to visit...\n",
       "0    Mad how birds throw on a pair of them fake gla...\n",
       "0    Why isn't @Target's #grocery offering helping ...\n",
       "0    All arguments have two sides, but some have no...\n",
       "0    A game where you must clear out a strange test...\n",
       "0    RT @JoParkerBear: I love that rightwingers say...\n",
       "0    #goodluc….. actor... an actor. rt @xxkissmeyou...\n",
       "0    Jeffrey Tambor Is Not Returning To \"Transparen...\n",
       "0    @BerthanPete @IsThisAB0t Can't see this being ...\n",
       "0    @JohnRMoffitt I thought the trump base didn't ...\n",
       "0    In fact I would go as far to say that it’s act...\n",
       "0    Warmer Arctic temperatures are the 'new normal...\n",
       "0    On her first day back from her honeymoon, @Ste...\n",
       "0    RT @TabithaKhaye: What defines us is how well ...\n",
       "0    Excited to be able to start another season. I ...\n",
       "0    RT @MeredithFrost: Best thing you’ll see today...\n",
       "0    RT por MAS SEGUIDORES: Da RT RT SÍGUEME\\ny SIG...\n",
       "0    Senior Software Engineer Frontend – Loan Servi...\n",
       "0    I change my mind...puff-puff-give. Last candid...\n",
       "0    RT @Internet_SF: \"Member States have failed to...\n",
       "0    @Kezzang69 I can hear the Black Bull jukey cal...\n",
       "0    Here's a look at the top 2018 strategic IT bud...\n",
       "0    What you don't know won't hurt you but it prov...\n",
       "0        @CostaCoffee @moto Not been picked up yet! :(\n",
       "0    New at Affiliate Marketing?  How to Start Off ...\n",
       "0    You should check this site out if you want 117...\n",
       "0    This tweet was sent via Twitter for iPhone. I ...\n",
       "0    RT @1dish4theroad: The history of #London is r...\n",
       "0    12 Great Motivational Quotes here: http://t.co...\n",
       "0                        I think i'm going to YOLO it.\n",
       "Name: data, Length: 4120, dtype: object"
      ]
     },
     "execution_count": 32,
     "metadata": {},
     "output_type": "execute_result"
    }
   ],
   "source": [
    "dataEn['data'][0]"
   ]
  },
  {
   "cell_type": "code",
   "execution_count": 33,
   "metadata": {},
   "outputs": [
    {
     "data": {
      "text/html": [
       "<div>\n",
       "<style scoped>\n",
       "    .dataframe tbody tr th:only-of-type {\n",
       "        vertical-align: middle;\n",
       "    }\n",
       "\n",
       "    .dataframe tbody tr th {\n",
       "        vertical-align: top;\n",
       "    }\n",
       "\n",
       "    .dataframe thead th {\n",
       "        text-align: right;\n",
       "    }\n",
       "</style>\n",
       "<table border=\"1\" class=\"dataframe\">\n",
       "  <thead>\n",
       "    <tr style=\"text-align: right;\">\n",
       "      <th></th>\n",
       "      <th>ID</th>\n",
       "      <th>data</th>\n",
       "      <th>lang</th>\n",
       "    </tr>\n",
       "  </thead>\n",
       "  <tbody>\n",
       "    <tr>\n",
       "      <th>count</th>\n",
       "      <td>412000</td>\n",
       "      <td>412000</td>\n",
       "      <td>412000</td>\n",
       "    </tr>\n",
       "    <tr>\n",
       "      <th>unique</th>\n",
       "      <td>4120</td>\n",
       "      <td>373908</td>\n",
       "      <td>1</td>\n",
       "    </tr>\n",
       "    <tr>\n",
       "      <th>top</th>\n",
       "      <td>5e336137a35f3cb3ffe2fa38641ca5fa</td>\n",
       "      <td>wow, it's so sad about MJ :(</td>\n",
       "      <td>en</td>\n",
       "    </tr>\n",
       "    <tr>\n",
       "      <th>freq</th>\n",
       "      <td>100</td>\n",
       "      <td>136</td>\n",
       "      <td>412000</td>\n",
       "    </tr>\n",
       "  </tbody>\n",
       "</table>\n",
       "</div>"
      ],
      "text/plain": [
       "                                      ID                          data    lang\n",
       "count                             412000                        412000  412000\n",
       "unique                              4120                        373908       1\n",
       "top     5e336137a35f3cb3ffe2fa38641ca5fa  wow, it's so sad about MJ :(      en\n",
       "freq                                 100                           136  412000"
      ]
     },
     "execution_count": 33,
     "metadata": {},
     "output_type": "execute_result"
    }
   ],
   "source": [
    "dataEn.describe()"
   ]
  },
  {
   "cell_type": "markdown",
   "metadata": {},
   "source": [
    "Now that we have merged the IDs with the data, we can create another dataframe with the labels and then merge them using the ID as key"
   ]
  },
  {
   "cell_type": "code",
   "execution_count": 34,
   "metadata": {},
   "outputs": [],
   "source": [
    "pathToLabels = \"/Users/kram/Downloads/botOrNot-en_es/en/truth.txt\""
   ]
  },
  {
   "cell_type": "code",
   "execution_count": 35,
   "metadata": {},
   "outputs": [
    {
     "name": "stderr",
     "output_type": "stream",
     "text": [
      "/Users/kram/anaconda3/lib/python3.6/site-packages/ipykernel_launcher.py:1: ParserWarning: Falling back to the 'python' engine because the 'c' engine does not support regex separators (separators > 1 char and different from '\\s+' are interpreted as regex); you can avoid this warning by specifying engine='python'.\n",
      "  \"\"\"Entry point for launching an IPython kernel.\n"
     ]
    }
   ],
   "source": [
    "target = pd.read_csv(pathToLabels, sep=\":::\")\n",
    "target.columns=['ID', 'botOrHuman', 'sex'] "
   ]
  },
  {
   "cell_type": "code",
   "execution_count": 36,
   "metadata": {},
   "outputs": [
    {
     "data": {
      "text/html": [
       "<div>\n",
       "<style scoped>\n",
       "    .dataframe tbody tr th:only-of-type {\n",
       "        vertical-align: middle;\n",
       "    }\n",
       "\n",
       "    .dataframe tbody tr th {\n",
       "        vertical-align: top;\n",
       "    }\n",
       "\n",
       "    .dataframe thead th {\n",
       "        text-align: right;\n",
       "    }\n",
       "</style>\n",
       "<table border=\"1\" class=\"dataframe\">\n",
       "  <thead>\n",
       "    <tr style=\"text-align: right;\">\n",
       "      <th></th>\n",
       "      <th>ID</th>\n",
       "      <th>botOrHuman</th>\n",
       "      <th>sex</th>\n",
       "    </tr>\n",
       "  </thead>\n",
       "  <tbody>\n",
       "    <tr>\n",
       "      <th>0</th>\n",
       "      <td>2bed15d46872169dc7deaf8d2b43a56</td>\n",
       "      <td>bot</td>\n",
       "      <td>bot</td>\n",
       "    </tr>\n",
       "    <tr>\n",
       "      <th>1</th>\n",
       "      <td>25395a7dbd2caa3d828bb3dbd57d8857</td>\n",
       "      <td>bot</td>\n",
       "      <td>bot</td>\n",
       "    </tr>\n",
       "    <tr>\n",
       "      <th>2</th>\n",
       "      <td>1c9f161414334b286c4dc70163744390</td>\n",
       "      <td>bot</td>\n",
       "      <td>bot</td>\n",
       "    </tr>\n",
       "    <tr>\n",
       "      <th>3</th>\n",
       "      <td>1da1f87b3dc778f28268eec70ce94f19</td>\n",
       "      <td>bot</td>\n",
       "      <td>bot</td>\n",
       "    </tr>\n",
       "    <tr>\n",
       "      <th>4</th>\n",
       "      <td>bd4286bfafb8a35b8e132a396b884e07</td>\n",
       "      <td>bot</td>\n",
       "      <td>bot</td>\n",
       "    </tr>\n",
       "    <tr>\n",
       "      <th>5</th>\n",
       "      <td>af61c4c017f246da69285497baf3dc0b</td>\n",
       "      <td>bot</td>\n",
       "      <td>bot</td>\n",
       "    </tr>\n",
       "    <tr>\n",
       "      <th>6</th>\n",
       "      <td>7a36090b20e7bddbe55561c52f959041</td>\n",
       "      <td>bot</td>\n",
       "      <td>bot</td>\n",
       "    </tr>\n",
       "    <tr>\n",
       "      <th>7</th>\n",
       "      <td>5183ff5bedcab9a6a301ff04e27166cd</td>\n",
       "      <td>bot</td>\n",
       "      <td>bot</td>\n",
       "    </tr>\n",
       "    <tr>\n",
       "      <th>8</th>\n",
       "      <td>6ac10734f35a773e9f2209f8668fffdf</td>\n",
       "      <td>bot</td>\n",
       "      <td>bot</td>\n",
       "    </tr>\n",
       "    <tr>\n",
       "      <th>9</th>\n",
       "      <td>b5b06752b42d3c354cc8e126f030a864</td>\n",
       "      <td>bot</td>\n",
       "      <td>bot</td>\n",
       "    </tr>\n",
       "  </tbody>\n",
       "</table>\n",
       "</div>"
      ],
      "text/plain": [
       "                                 ID botOrHuman  sex\n",
       "0   2bed15d46872169dc7deaf8d2b43a56        bot  bot\n",
       "1  25395a7dbd2caa3d828bb3dbd57d8857        bot  bot\n",
       "2  1c9f161414334b286c4dc70163744390        bot  bot\n",
       "3  1da1f87b3dc778f28268eec70ce94f19        bot  bot\n",
       "4  bd4286bfafb8a35b8e132a396b884e07        bot  bot\n",
       "5  af61c4c017f246da69285497baf3dc0b        bot  bot\n",
       "6  7a36090b20e7bddbe55561c52f959041        bot  bot\n",
       "7  5183ff5bedcab9a6a301ff04e27166cd        bot  bot\n",
       "8  6ac10734f35a773e9f2209f8668fffdf        bot  bot\n",
       "9  b5b06752b42d3c354cc8e126f030a864        bot  bot"
      ]
     },
     "execution_count": 36,
     "metadata": {},
     "output_type": "execute_result"
    }
   ],
   "source": [
    "target.head(10)"
   ]
  },
  {
   "cell_type": "code",
   "execution_count": 37,
   "metadata": {},
   "outputs": [
    {
     "data": {
      "text/html": [
       "<div>\n",
       "<style scoped>\n",
       "    .dataframe tbody tr th:only-of-type {\n",
       "        vertical-align: middle;\n",
       "    }\n",
       "\n",
       "    .dataframe tbody tr th {\n",
       "        vertical-align: top;\n",
       "    }\n",
       "\n",
       "    .dataframe thead th {\n",
       "        text-align: right;\n",
       "    }\n",
       "</style>\n",
       "<table border=\"1\" class=\"dataframe\">\n",
       "  <thead>\n",
       "    <tr style=\"text-align: right;\">\n",
       "      <th></th>\n",
       "      <th>ID</th>\n",
       "      <th>botOrHuman</th>\n",
       "      <th>sex</th>\n",
       "    </tr>\n",
       "  </thead>\n",
       "  <tbody>\n",
       "    <tr>\n",
       "      <th>count</th>\n",
       "      <td>4119</td>\n",
       "      <td>4119</td>\n",
       "      <td>4119</td>\n",
       "    </tr>\n",
       "    <tr>\n",
       "      <th>unique</th>\n",
       "      <td>4119</td>\n",
       "      <td>2</td>\n",
       "      <td>3</td>\n",
       "    </tr>\n",
       "    <tr>\n",
       "      <th>top</th>\n",
       "      <td>cc8247eefb568a278752e144d6a5a83f</td>\n",
       "      <td>human</td>\n",
       "      <td>bot</td>\n",
       "    </tr>\n",
       "    <tr>\n",
       "      <th>freq</th>\n",
       "      <td>1</td>\n",
       "      <td>2060</td>\n",
       "      <td>2059</td>\n",
       "    </tr>\n",
       "  </tbody>\n",
       "</table>\n",
       "</div>"
      ],
      "text/plain": [
       "                                      ID botOrHuman   sex\n",
       "count                               4119       4119  4119\n",
       "unique                              4119          2     3\n",
       "top     cc8247eefb568a278752e144d6a5a83f      human   bot\n",
       "freq                                   1       2060  2059"
      ]
     },
     "execution_count": 37,
     "metadata": {},
     "output_type": "execute_result"
    }
   ],
   "source": [
    "target.describe()"
   ]
  },
  {
   "cell_type": "markdown",
   "metadata": {},
   "source": [
    "We can now proceed with the concatenation of the dataframes for the English language"
   ]
  },
  {
   "cell_type": "code",
   "execution_count": 38,
   "metadata": {},
   "outputs": [],
   "source": [
    "mergedEnData = pd.merge(dataEn, target, on='ID')"
   ]
  },
  {
   "cell_type": "code",
   "execution_count": 39,
   "metadata": {},
   "outputs": [
    {
     "data": {
      "text/html": [
       "<div>\n",
       "<style scoped>\n",
       "    .dataframe tbody tr th:only-of-type {\n",
       "        vertical-align: middle;\n",
       "    }\n",
       "\n",
       "    .dataframe tbody tr th {\n",
       "        vertical-align: top;\n",
       "    }\n",
       "\n",
       "    .dataframe thead th {\n",
       "        text-align: right;\n",
       "    }\n",
       "</style>\n",
       "<table border=\"1\" class=\"dataframe\">\n",
       "  <thead>\n",
       "    <tr style=\"text-align: right;\">\n",
       "      <th></th>\n",
       "      <th>ID</th>\n",
       "      <th>data</th>\n",
       "      <th>lang</th>\n",
       "      <th>botOrHuman</th>\n",
       "      <th>sex</th>\n",
       "    </tr>\n",
       "  </thead>\n",
       "  <tbody>\n",
       "    <tr>\n",
       "      <th>0</th>\n",
       "      <td>867be96f95dfc4e24541d19c6a5ab8bf</td>\n",
       "      <td>Alex is too nice for love island :(</td>\n",
       "      <td>en</td>\n",
       "      <td>human</td>\n",
       "      <td>female</td>\n",
       "    </tr>\n",
       "    <tr>\n",
       "      <th>1</th>\n",
       "      <td>867be96f95dfc4e24541d19c6a5ab8bf</td>\n",
       "      <td>RT @STVNews: Teenager charged with rape of wom...</td>\n",
       "      <td>en</td>\n",
       "      <td>human</td>\n",
       "      <td>female</td>\n",
       "    </tr>\n",
       "    <tr>\n",
       "      <th>2</th>\n",
       "      <td>867be96f95dfc4e24541d19c6a5ab8bf</td>\n",
       "      <td>@LipsTaco @jennyhastie</td>\n",
       "      <td>en</td>\n",
       "      <td>human</td>\n",
       "      <td>female</td>\n",
       "    </tr>\n",
       "    <tr>\n",
       "      <th>3</th>\n",
       "      <td>867be96f95dfc4e24541d19c6a5ab8bf</td>\n",
       "      <td>@RyanDunbar8 happy bday Ryan have the best day...</td>\n",
       "      <td>en</td>\n",
       "      <td>human</td>\n",
       "      <td>female</td>\n",
       "    </tr>\n",
       "    <tr>\n",
       "      <th>4</th>\n",
       "      <td>867be96f95dfc4e24541d19c6a5ab8bf</td>\n",
       "      <td>@jennyhastie @bootywhispers I just wanna let j...</td>\n",
       "      <td>en</td>\n",
       "      <td>human</td>\n",
       "      <td>female</td>\n",
       "    </tr>\n",
       "    <tr>\n",
       "      <th>5</th>\n",
       "      <td>867be96f95dfc4e24541d19c6a5ab8bf</td>\n",
       "      <td>@bootywhispers @jennyhastie what would u do ?</td>\n",
       "      <td>en</td>\n",
       "      <td>human</td>\n",
       "      <td>female</td>\n",
       "    </tr>\n",
       "    <tr>\n",
       "      <th>6</th>\n",
       "      <td>867be96f95dfc4e24541d19c6a5ab8bf</td>\n",
       "      <td>@Aidsterrr Asking for a mate :/ wee bit line o...</td>\n",
       "      <td>en</td>\n",
       "      <td>human</td>\n",
       "      <td>female</td>\n",
       "    </tr>\n",
       "    <tr>\n",
       "      <th>7</th>\n",
       "      <td>867be96f95dfc4e24541d19c6a5ab8bf</td>\n",
       "      <td>Wonder what a Sunday without the fear feels like</td>\n",
       "      <td>en</td>\n",
       "      <td>human</td>\n",
       "      <td>female</td>\n",
       "    </tr>\n",
       "    <tr>\n",
       "      <th>8</th>\n",
       "      <td>867be96f95dfc4e24541d19c6a5ab8bf</td>\n",
       "      <td>RT @liamfrenchx: Brutal getn wee flashbacks a ...</td>\n",
       "      <td>en</td>\n",
       "      <td>human</td>\n",
       "      <td>female</td>\n",
       "    </tr>\n",
       "    <tr>\n",
       "      <th>9</th>\n",
       "      <td>867be96f95dfc4e24541d19c6a5ab8bf</td>\n",
       "      <td>Went to a&amp;amp;e last night myself after I lock...</td>\n",
       "      <td>en</td>\n",
       "      <td>human</td>\n",
       "      <td>female</td>\n",
       "    </tr>\n",
       "  </tbody>\n",
       "</table>\n",
       "</div>"
      ],
      "text/plain": [
       "                                 ID  \\\n",
       "0  867be96f95dfc4e24541d19c6a5ab8bf   \n",
       "1  867be96f95dfc4e24541d19c6a5ab8bf   \n",
       "2  867be96f95dfc4e24541d19c6a5ab8bf   \n",
       "3  867be96f95dfc4e24541d19c6a5ab8bf   \n",
       "4  867be96f95dfc4e24541d19c6a5ab8bf   \n",
       "5  867be96f95dfc4e24541d19c6a5ab8bf   \n",
       "6  867be96f95dfc4e24541d19c6a5ab8bf   \n",
       "7  867be96f95dfc4e24541d19c6a5ab8bf   \n",
       "8  867be96f95dfc4e24541d19c6a5ab8bf   \n",
       "9  867be96f95dfc4e24541d19c6a5ab8bf   \n",
       "\n",
       "                                                data lang botOrHuman     sex  \n",
       "0                Alex is too nice for love island :(   en      human  female  \n",
       "1  RT @STVNews: Teenager charged with rape of wom...   en      human  female  \n",
       "2                             @LipsTaco @jennyhastie   en      human  female  \n",
       "3  @RyanDunbar8 happy bday Ryan have the best day...   en      human  female  \n",
       "4  @jennyhastie @bootywhispers I just wanna let j...   en      human  female  \n",
       "5      @bootywhispers @jennyhastie what would u do ?   en      human  female  \n",
       "6  @Aidsterrr Asking for a mate :/ wee bit line o...   en      human  female  \n",
       "7   Wonder what a Sunday without the fear feels like   en      human  female  \n",
       "8  RT @liamfrenchx: Brutal getn wee flashbacks a ...   en      human  female  \n",
       "9  Went to a&amp;e last night myself after I lock...   en      human  female  "
      ]
     },
     "execution_count": 39,
     "metadata": {},
     "output_type": "execute_result"
    }
   ],
   "source": [
    "mergedEnData.head(10)"
   ]
  },
  {
   "cell_type": "code",
   "execution_count": 30,
   "metadata": {},
   "outputs": [
    {
     "data": {
      "text/html": [
       "<div>\n",
       "<style scoped>\n",
       "    .dataframe tbody tr th:only-of-type {\n",
       "        vertical-align: middle;\n",
       "    }\n",
       "\n",
       "    .dataframe tbody tr th {\n",
       "        vertical-align: top;\n",
       "    }\n",
       "\n",
       "    .dataframe thead th {\n",
       "        text-align: right;\n",
       "    }\n",
       "</style>\n",
       "<table border=\"1\" class=\"dataframe\">\n",
       "  <thead>\n",
       "    <tr style=\"text-align: right;\">\n",
       "      <th></th>\n",
       "      <th>ID</th>\n",
       "      <th>data</th>\n",
       "      <th>lang</th>\n",
       "      <th>botOrHuman</th>\n",
       "      <th>sex</th>\n",
       "    </tr>\n",
       "  </thead>\n",
       "  <tbody>\n",
       "    <tr>\n",
       "      <th>count</th>\n",
       "      <td>411900</td>\n",
       "      <td>411900</td>\n",
       "      <td>411900</td>\n",
       "      <td>411900</td>\n",
       "      <td>411900</td>\n",
       "    </tr>\n",
       "    <tr>\n",
       "      <th>unique</th>\n",
       "      <td>4119</td>\n",
       "      <td>373808</td>\n",
       "      <td>1</td>\n",
       "      <td>2</td>\n",
       "      <td>3</td>\n",
       "    </tr>\n",
       "    <tr>\n",
       "      <th>top</th>\n",
       "      <td>f791410bc2e3bb3c64b7e43c20098300</td>\n",
       "      <td>wow, it's so sad about MJ :(</td>\n",
       "      <td>en</td>\n",
       "      <td>human</td>\n",
       "      <td>bot</td>\n",
       "    </tr>\n",
       "    <tr>\n",
       "      <th>freq</th>\n",
       "      <td>100</td>\n",
       "      <td>136</td>\n",
       "      <td>411900</td>\n",
       "      <td>206000</td>\n",
       "      <td>205900</td>\n",
       "    </tr>\n",
       "  </tbody>\n",
       "</table>\n",
       "</div>"
      ],
      "text/plain": [
       "                                      ID                          data  \\\n",
       "count                             411900                        411900   \n",
       "unique                              4119                        373808   \n",
       "top     f791410bc2e3bb3c64b7e43c20098300  wow, it's so sad about MJ :(   \n",
       "freq                                 100                           136   \n",
       "\n",
       "          lang botOrHuman     sex  \n",
       "count   411900     411900  411900  \n",
       "unique       1          2       3  \n",
       "top         en      human     bot  \n",
       "freq    411900     206000  205900  "
      ]
     },
     "execution_count": 30,
     "metadata": {},
     "output_type": "execute_result"
    }
   ],
   "source": [
    "mergedEnData.describe()"
   ]
  },
  {
   "cell_type": "markdown",
   "metadata": {},
   "source": [
    "# Text EDA"
   ]
  },
  {
   "cell_type": "code",
   "execution_count": 53,
   "metadata": {},
   "outputs": [],
   "source": [
    "import nltk\n",
    "from nltk.tokenize import word_tokenize"
   ]
  },
  {
   "cell_type": "code",
   "execution_count": 56,
   "metadata": {},
   "outputs": [
    {
     "name": "stdout",
     "output_type": "stream",
     "text": [
      "[nltk_data] Downloading package punkt to /Users/kram/nltk_data...\n",
      "[nltk_data]   Package punkt is already up-to-date!\n",
      "[nltk_data] Downloading package stopwords to /Users/kram/nltk_data...\n",
      "[nltk_data]   Package stopwords is already up-to-date!\n"
     ]
    },
    {
     "data": {
      "text/plain": [
       "True"
      ]
     },
     "execution_count": 56,
     "metadata": {},
     "output_type": "execute_result"
    }
   ],
   "source": [
    "nltk.download('punkt')\n",
    "nltk.download('stopwords')"
   ]
  },
  {
   "cell_type": "code",
   "execution_count": 58,
   "metadata": {},
   "outputs": [
    {
     "name": "stdout",
     "output_type": "stream",
     "text": [
      "575560\n"
     ]
    },
    {
     "data": {
      "text/plain": [
       "[':', '@', 'https', '.', ',', '#', 'the', 'to', 'a', 'of']"
      ]
     },
     "execution_count": 58,
     "metadata": {},
     "output_type": "execute_result"
    }
   ],
   "source": [
    "df = mergedEnData.data.str.cat(sep=' ')\n",
    "#function to split text into word\n",
    "tokens = word_tokenize(df)\n",
    "vocabulary = set(tokens)\n",
    "print(len(vocabulary))\n",
    "frequency_dist = nltk.FreqDist(tokens)\n",
    "sorted(frequency_dist,key=frequency_dist.__getitem__, reverse=True)[0:10]"
   ]
  },
  {
   "cell_type": "code",
   "execution_count": 59,
   "metadata": {},
   "outputs": [],
   "source": [
    "from nltk.corpus import stopwords\n",
    "stop_words = set(stopwords.words('english'))\n",
    "tokens = [w for w in tokens if not w in stop_words]"
   ]
  },
  {
   "cell_type": "code",
   "execution_count": 35,
   "metadata": {},
   "outputs": [
    {
     "data": {
      "text/plain": [
       "['Alex', 'nice', 'love', 'island', ':']"
      ]
     },
     "execution_count": 35,
     "metadata": {},
     "output_type": "execute_result"
    }
   ],
   "source": [
    "tokens[0:5]"
   ]
  },
  {
   "cell_type": "code",
   "execution_count": 36,
   "metadata": {},
   "outputs": [
    {
     "name": "stdout",
     "output_type": "stream",
     "text": [
      "Collecting Wordcloud\n",
      "  Downloading https://files.pythonhosted.org/packages/23/4e/1254d26ce5d36facdcbb5820e7e434328aed68e99938c75c9d4e2fee5efb/wordcloud-1.5.0-cp37-cp37m-win_amd64.whl (153kB)\n",
      "Requirement already satisfied: pillow in c:\\users\\marco.depinto\\appdata\\local\\continuum\\anaconda3\\lib\\site-packages (from Wordcloud) (5.3.0)\n",
      "Requirement already satisfied: numpy>=1.6.1 in c:\\users\\marco.depinto\\appdata\\local\\continuum\\anaconda3\\lib\\site-packages (from Wordcloud) (1.15.4)\n",
      "Installing collected packages: Wordcloud\n",
      "Successfully installed Wordcloud-1.5.0\n"
     ]
    }
   ],
   "source": [
    "!pip install Wordcloud"
   ]
  },
  {
   "cell_type": "code",
   "execution_count": 38,
   "metadata": {},
   "outputs": [
    {
     "data": {
      "image/png": "[encoded data removed]",
      "text/plain": [
       "<Figure size 432x288 with 1 Axes>"
      ]
     },
     "metadata": {
      "needs_background": "light"
     },
     "output_type": "display_data"
    }
   ],
   "source": [
    "from wordcloud import WordCloud\n",
    "import matplotlib.pyplot as plt\n",
    "wordcloud = WordCloud().generate_from_frequencies(frequency_dist)\n",
    "plt.imshow(wordcloud)\n",
    "plt.axis(\"off\")\n",
    "plt.show()"
   ]
  },
  {
   "cell_type": "markdown",
   "metadata": {},
   "source": [
    "# Machine Learning"
   ]
  },
  {
   "cell_type": "code",
   "execution_count": 66,
   "metadata": {},
   "outputs": [
    {
     "data": {
      "text/html": [
       "<div>\n",
       "<style scoped>\n",
       "    .dataframe tbody tr th:only-of-type {\n",
       "        vertical-align: middle;\n",
       "    }\n",
       "\n",
       "    .dataframe tbody tr th {\n",
       "        vertical-align: top;\n",
       "    }\n",
       "\n",
       "    .dataframe thead th {\n",
       "        text-align: right;\n",
       "    }\n",
       "</style>\n",
       "<table border=\"1\" class=\"dataframe\">\n",
       "  <thead>\n",
       "    <tr style=\"text-align: right;\">\n",
       "      <th></th>\n",
       "      <th>ID</th>\n",
       "      <th>data</th>\n",
       "      <th>lang</th>\n",
       "      <th>botOrHuman</th>\n",
       "      <th>sex</th>\n",
       "    </tr>\n",
       "  </thead>\n",
       "  <tbody>\n",
       "    <tr>\n",
       "      <th>0</th>\n",
       "      <td>867be96f95dfc4e24541d19c6a5ab8bf</td>\n",
       "      <td>Alex is too nice for love island :(</td>\n",
       "      <td>en</td>\n",
       "      <td>human</td>\n",
       "      <td>female</td>\n",
       "    </tr>\n",
       "    <tr>\n",
       "      <th>1</th>\n",
       "      <td>867be96f95dfc4e24541d19c6a5ab8bf</td>\n",
       "      <td>RT @STVNews: Teenager charged with rape of wom...</td>\n",
       "      <td>en</td>\n",
       "      <td>human</td>\n",
       "      <td>female</td>\n",
       "    </tr>\n",
       "    <tr>\n",
       "      <th>2</th>\n",
       "      <td>867be96f95dfc4e24541d19c6a5ab8bf</td>\n",
       "      <td>@LipsTaco @jennyhastie</td>\n",
       "      <td>en</td>\n",
       "      <td>human</td>\n",
       "      <td>female</td>\n",
       "    </tr>\n",
       "    <tr>\n",
       "      <th>3</th>\n",
       "      <td>867be96f95dfc4e24541d19c6a5ab8bf</td>\n",
       "      <td>@RyanDunbar8 happy bday Ryan have the best day...</td>\n",
       "      <td>en</td>\n",
       "      <td>human</td>\n",
       "      <td>female</td>\n",
       "    </tr>\n",
       "    <tr>\n",
       "      <th>4</th>\n",
       "      <td>867be96f95dfc4e24541d19c6a5ab8bf</td>\n",
       "      <td>@jennyhastie @bootywhispers I just wanna let j...</td>\n",
       "      <td>en</td>\n",
       "      <td>human</td>\n",
       "      <td>female</td>\n",
       "    </tr>\n",
       "    <tr>\n",
       "      <th>5</th>\n",
       "      <td>867be96f95dfc4e24541d19c6a5ab8bf</td>\n",
       "      <td>@bootywhispers @jennyhastie what would u do ?</td>\n",
       "      <td>en</td>\n",
       "      <td>human</td>\n",
       "      <td>female</td>\n",
       "    </tr>\n",
       "    <tr>\n",
       "      <th>6</th>\n",
       "      <td>867be96f95dfc4e24541d19c6a5ab8bf</td>\n",
       "      <td>@Aidsterrr Asking for a mate :/ wee bit line o...</td>\n",
       "      <td>en</td>\n",
       "      <td>human</td>\n",
       "      <td>female</td>\n",
       "    </tr>\n",
       "    <tr>\n",
       "      <th>7</th>\n",
       "      <td>867be96f95dfc4e24541d19c6a5ab8bf</td>\n",
       "      <td>Wonder what a Sunday without the fear feels like</td>\n",
       "      <td>en</td>\n",
       "      <td>human</td>\n",
       "      <td>female</td>\n",
       "    </tr>\n",
       "    <tr>\n",
       "      <th>8</th>\n",
       "      <td>867be96f95dfc4e24541d19c6a5ab8bf</td>\n",
       "      <td>RT @liamfrenchx: Brutal getn wee flashbacks a ...</td>\n",
       "      <td>en</td>\n",
       "      <td>human</td>\n",
       "      <td>female</td>\n",
       "    </tr>\n",
       "    <tr>\n",
       "      <th>9</th>\n",
       "      <td>867be96f95dfc4e24541d19c6a5ab8bf</td>\n",
       "      <td>Went to a&amp;amp;e last night myself after I lock...</td>\n",
       "      <td>en</td>\n",
       "      <td>human</td>\n",
       "      <td>female</td>\n",
       "    </tr>\n",
       "  </tbody>\n",
       "</table>\n",
       "</div>"
      ],
      "text/plain": [
       "                                 ID  \\\n",
       "0  867be96f95dfc4e24541d19c6a5ab8bf   \n",
       "1  867be96f95dfc4e24541d19c6a5ab8bf   \n",
       "2  867be96f95dfc4e24541d19c6a5ab8bf   \n",
       "3  867be96f95dfc4e24541d19c6a5ab8bf   \n",
       "4  867be96f95dfc4e24541d19c6a5ab8bf   \n",
       "5  867be96f95dfc4e24541d19c6a5ab8bf   \n",
       "6  867be96f95dfc4e24541d19c6a5ab8bf   \n",
       "7  867be96f95dfc4e24541d19c6a5ab8bf   \n",
       "8  867be96f95dfc4e24541d19c6a5ab8bf   \n",
       "9  867be96f95dfc4e24541d19c6a5ab8bf   \n",
       "\n",
       "                                                data lang botOrHuman     sex  \n",
       "0                Alex is too nice for love island :(   en      human  female  \n",
       "1  RT @STVNews: Teenager charged with rape of wom...   en      human  female  \n",
       "2                             @LipsTaco @jennyhastie   en      human  female  \n",
       "3  @RyanDunbar8 happy bday Ryan have the best day...   en      human  female  \n",
       "4  @jennyhastie @bootywhispers I just wanna let j...   en      human  female  \n",
       "5      @bootywhispers @jennyhastie what would u do ?   en      human  female  \n",
       "6  @Aidsterrr Asking for a mate :/ wee bit line o...   en      human  female  \n",
       "7   Wonder what a Sunday without the fear feels like   en      human  female  \n",
       "8  RT @liamfrenchx: Brutal getn wee flashbacks a ...   en      human  female  \n",
       "9  Went to a&amp;e last night myself after I lock...   en      human  female  "
      ]
     },
     "execution_count": 66,
     "metadata": {},
     "output_type": "execute_result"
    }
   ],
   "source": [
    "mergedEnData.head(10)"
   ]
  },
  {
   "cell_type": "code",
   "execution_count": 41,
   "metadata": {},
   "outputs": [
    {
     "data": {
      "text/html": [
       "<div>\n",
       "<style scoped>\n",
       "    .dataframe tbody tr th:only-of-type {\n",
       "        vertical-align: middle;\n",
       "    }\n",
       "\n",
       "    .dataframe tbody tr th {\n",
       "        vertical-align: top;\n",
       "    }\n",
       "\n",
       "    .dataframe thead th {\n",
       "        text-align: right;\n",
       "    }\n",
       "</style>\n",
       "<table border=\"1\" class=\"dataframe\">\n",
       "  <thead>\n",
       "    <tr style=\"text-align: right;\">\n",
       "      <th></th>\n",
       "      <th>ID</th>\n",
       "      <th>data</th>\n",
       "      <th>lang</th>\n",
       "      <th>botOrHuman</th>\n",
       "      <th>sex</th>\n",
       "    </tr>\n",
       "  </thead>\n",
       "  <tbody>\n",
       "    <tr>\n",
       "      <th>count</th>\n",
       "      <td>411900</td>\n",
       "      <td>411900</td>\n",
       "      <td>411900</td>\n",
       "      <td>411900</td>\n",
       "      <td>411900</td>\n",
       "    </tr>\n",
       "    <tr>\n",
       "      <th>unique</th>\n",
       "      <td>4119</td>\n",
       "      <td>373808</td>\n",
       "      <td>1</td>\n",
       "      <td>2</td>\n",
       "      <td>3</td>\n",
       "    </tr>\n",
       "    <tr>\n",
       "      <th>top</th>\n",
       "      <td>99432ec828270e93629793ca8608d91a</td>\n",
       "      <td>wow, it's so sad about MJ :(</td>\n",
       "      <td>en</td>\n",
       "      <td>human</td>\n",
       "      <td>bot</td>\n",
       "    </tr>\n",
       "    <tr>\n",
       "      <th>freq</th>\n",
       "      <td>100</td>\n",
       "      <td>136</td>\n",
       "      <td>411900</td>\n",
       "      <td>206000</td>\n",
       "      <td>205900</td>\n",
       "    </tr>\n",
       "  </tbody>\n",
       "</table>\n",
       "</div>"
      ],
      "text/plain": [
       "                                      ID                          data  \\\n",
       "count                             411900                        411900   \n",
       "unique                              4119                        373808   \n",
       "top     99432ec828270e93629793ca8608d91a  wow, it's so sad about MJ :(   \n",
       "freq                                 100                           136   \n",
       "\n",
       "          lang botOrHuman     sex  \n",
       "count   411900     411900  411900  \n",
       "unique       1          2       3  \n",
       "top         en      human     bot  \n",
       "freq    411900     206000  205900  "
      ]
     },
     "execution_count": 41,
     "metadata": {},
     "output_type": "execute_result"
    }
   ],
   "source": [
    "mergedEnData.describe()"
   ]
  },
  {
   "cell_type": "code",
   "execution_count": 20,
   "metadata": {},
   "outputs": [
    {
     "ename": "NameError",
     "evalue": "name 'mergedEnData' is not defined",
     "output_type": "error",
     "traceback": [
      "\u001b[0;31m---------------------------------------------------------------------------\u001b[0m",
      "\u001b[0;31mNameError\u001b[0m                                 Traceback (most recent call last)",
      "\u001b[0;32m<ipython-input-20-74a89438addd>\u001b[0m in \u001b[0;36m<module>\u001b[0;34m()\u001b[0m\n\u001b[0;32m----> 1\u001b[0;31m \u001b[0mX\u001b[0m \u001b[0;34m=\u001b[0m \u001b[0mmergedEnData\u001b[0m\u001b[0;34m[\u001b[0m\u001b[0;34m'data'\u001b[0m\u001b[0;34m]\u001b[0m\u001b[0;34m\u001b[0m\u001b[0;34m\u001b[0m\u001b[0m\n\u001b[0m\u001b[1;32m      2\u001b[0m \u001b[0my\u001b[0m \u001b[0;34m=\u001b[0m \u001b[0mmergedEnData\u001b[0m\u001b[0;34m[\u001b[0m\u001b[0;34m'sex'\u001b[0m\u001b[0;34m]\u001b[0m\u001b[0;34m\u001b[0m\u001b[0;34m\u001b[0m\u001b[0m\n",
      "\u001b[0;31mNameError\u001b[0m: name 'mergedEnData' is not defined"
     ]
    }
   ],
   "source": [
    "X = mergedEnData['data']\n",
    "y = mergedEnData['sex']"
   ]
  },
  {
   "cell_type": "code",
   "execution_count": 61,
   "metadata": {},
   "outputs": [],
   "source": [
    "from sklearn.model_selection import train_test_split\n",
    "X_train, X_test, y_train, y_test = train_test_split(X, y, test_size=0.33, random_state=42)"
   ]
  },
  {
   "cell_type": "code",
   "execution_count": 62,
   "metadata": {},
   "outputs": [
    {
     "name": "stdout",
     "output_type": "stream",
     "text": [
      "(275973, 341004) (135927, 341004)\n"
     ]
    }
   ],
   "source": [
    "from sklearn.feature_extraction.text import TfidfTransformer\n",
    "from sklearn.feature_extraction.text import TfidfVectorizer\n",
    "vectorizer = TfidfVectorizer()\n",
    "train_vectors = vectorizer.fit_transform(X_train)\n",
    "test_vectors = vectorizer.transform(X_test)\n",
    "print(train_vectors.shape, test_vectors.shape)"
   ]
  },
  {
   "cell_type": "code",
   "execution_count": 63,
   "metadata": {},
   "outputs": [],
   "source": [
    "from sklearn.naive_bayes import MultinomialNB\n",
    "clf = MultinomialNB().fit(train_vectors, y_train)"
   ]
  },
  {
   "cell_type": "code",
   "execution_count": 64,
   "metadata": {},
   "outputs": [
    {
     "name": "stdout",
     "output_type": "stream",
     "text": [
      "0.7334745856231654\n"
     ]
    }
   ],
   "source": [
    "from  sklearn.metrics  import accuracy_score\n",
    "predicted = clf.predict(test_vectors)\n",
    "print(accuracy_score(y_test,predicted))"
   ]
  },
  {
   "cell_type": "code",
   "execution_count": 65,
   "metadata": {
    "scrolled": true
   },
   "outputs": [
    {
     "name": "stdout",
     "output_type": "stream",
     "text": [
      "              precision    recall  f1-score   support\n",
      "\n",
      "         bot       0.68      0.99      0.81     67970\n",
      "      female       0.86      0.50      0.63     34207\n",
      "        male       0.87      0.46      0.60     33750\n",
      "\n",
      "   micro avg       0.73      0.73      0.73    135927\n",
      "   macro avg       0.80      0.65      0.68    135927\n",
      "weighted avg       0.77      0.73      0.71    135927\n",
      "\n"
     ]
    }
   ],
   "source": [
    "from  sklearn.metrics  import classification_report\n",
    "print(classification_report(y_test,predicted))"
   ]
  },
  {
   "cell_type": "markdown",
   "metadata": {},
   "source": [
    "# Deep Learning - CNN?"
   ]
  },
  {
   "cell_type": "code",
   "execution_count": 128,
   "metadata": {},
   "outputs": [
    {
     "name": "stdout",
     "output_type": "stream",
     "text": [
      "4119\n"
     ]
    }
   ],
   "source": [
    "'''Creo la litsa degli ID, delle classi e dei tweets pr ogni ID'''\n",
    "\n",
    "listaIds =[]\n",
    "listaClasses = []\n",
    "matrixTweets = []\n",
    "\n",
    "for index, x in mergedEnData.iterrows():\n",
    "    id = x['ID']\n",
    "    if id not in listaIds:\n",
    "        newList = list()\n",
    "        newList.append(x[1])\n",
    "        matrixTweets.append(newList)\n",
    "        listaIds.append(id)\n",
    "        listaClasses.append(x[3])\n",
    "    else:\n",
    "        ls = matrixTweets[listaIds.index(id)]\n",
    "        ls.append(x[1])\n",
    "        matrixTweets[listaIds.index(id)] = ls\n",
    "        \n",
    "print(len(listaIds))"
   ]
  },
  {
   "cell_type": "code",
   "execution_count": 41,
   "metadata": {},
   "outputs": [
    {
     "data": {
      "text/plain": [
       "'Trasformo le entità, lascio le faccine, levo le stopword e se serve agli embeddings lemmatizzo'"
      ]
     },
     "execution_count": 41,
     "metadata": {},
     "output_type": "execute_result"
    }
   ],
   "source": [
    "'''Trasformo le entità, lascio le faccine, levo le stopword e se serve agli embeddings lemmatizzo'''"
   ]
  },
  {
   "cell_type": "code",
   "execution_count": 42,
   "metadata": {},
   "outputs": [
    {
     "name": "stdout",
     "output_type": "stream",
     "text": [
      "Requirement already satisfied: ekphrasis in /Users/kram/anaconda3/lib/python3.6/site-packages (0.5.1)\n",
      "Requirement already satisfied: numpy in /Users/kram/anaconda3/lib/python3.6/site-packages (from ekphrasis) (1.16.0)\n",
      "Requirement already satisfied: ujson in /Users/kram/anaconda3/lib/python3.6/site-packages (from ekphrasis) (1.35)\n",
      "Requirement already satisfied: nltk in /Users/kram/anaconda3/lib/python3.6/site-packages (from ekphrasis) (3.3)\n",
      "Requirement already satisfied: matplotlib in /Users/kram/anaconda3/lib/python3.6/site-packages (from ekphrasis) (3.0.2)\n",
      "Requirement already satisfied: tqdm in /Users/kram/anaconda3/lib/python3.6/site-packages (from ekphrasis) (4.29.1)\n",
      "Requirement already satisfied: colorama in /Users/kram/anaconda3/lib/python3.6/site-packages (from ekphrasis) (0.3.9)\n",
      "Requirement already satisfied: ftfy in /Users/kram/anaconda3/lib/python3.6/site-packages (from ekphrasis) (5.5.1)\n",
      "Requirement already satisfied: termcolor in /Users/kram/anaconda3/lib/python3.6/site-packages (from ekphrasis) (1.1.0)\n",
      "Requirement already satisfied: six in /Users/kram/anaconda3/lib/python3.6/site-packages (from nltk->ekphrasis) (1.11.0)\n",
      "Requirement already satisfied: cycler>=0.10 in /Users/kram/anaconda3/lib/python3.6/site-packages (from matplotlib->ekphrasis) (0.10.0)\n",
      "Requirement already satisfied: kiwisolver>=1.0.1 in /Users/kram/anaconda3/lib/python3.6/site-packages (from matplotlib->ekphrasis) (1.0.1)\n",
      "Requirement already satisfied: pyparsing!=2.0.4,!=2.1.2,!=2.1.6,>=2.0.1 in /Users/kram/anaconda3/lib/python3.6/site-packages (from matplotlib->ekphrasis) (2.2.0)\n",
      "Requirement already satisfied: python-dateutil>=2.1 in /Users/kram/anaconda3/lib/python3.6/site-packages (from matplotlib->ekphrasis) (2.7.3)\n",
      "Requirement already satisfied: wcwidth in /Users/kram/anaconda3/lib/python3.6/site-packages (from ftfy->ekphrasis) (0.1.7)\n",
      "Requirement already satisfied: setuptools in /Users/kram/anaconda3/lib/python3.6/site-packages (from kiwisolver>=1.0.1->matplotlib->ekphrasis) (39.1.0)\n",
      "\u001b[33mYou are using pip version 18.1, however version 19.0.1 is available.\n",
      "You should consider upgrading via the 'pip install --upgrade pip' command.\u001b[0m\n"
     ]
    }
   ],
   "source": [
    "import sys\n",
    "!{sys.executable} -m pip install ekphrasis"
   ]
  },
  {
   "cell_type": "code",
   "execution_count": 43,
   "metadata": {},
   "outputs": [
    {
     "name": "stdout",
     "output_type": "stream",
     "text": [
      "Reading twitter - 1grams ...\n",
      "Reading twitter - 2grams ...\n",
      "Reading twitter - 1grams ...\n"
     ]
    }
   ],
   "source": [
    "from ekphrasis.dicts.emoticons import emoticons\n",
    "from ekphrasis.classes.preprocessor import TextPreProcessor\n",
    "from ekphrasis.classes.tokenizer import SocialTokenizer\n",
    "\n",
    "text_processor = TextPreProcessor (\n",
    "    # terms that will be normalized\n",
    "    normalize=[ 'email' , 'percent' , 'money' , 'phone' ,\n",
    "                'time' , 'url' , 'date' , 'number' ] ,\n",
    "    fix_html=True ,  # fix HTML tokens\n",
    "    segmenter=\"twitter\" ,\n",
    "    corrector=\"twitter\" ,\n",
    "    unpack_hashtags=True ,  # perform word segmentation on hashtags\n",
    "    unpack_contractions=True ,  # Unpack contractions (can't -> can not)\n",
    "    spell_correct_elong=True ,  # spell correction for elongated words\n",
    "    tokenizer=SocialTokenizer(lowercase=True).tokenize,\n",
    "    dicts=[ emoticons ]\n",
    ")"
   ]
  },
  {
   "cell_type": "code",
   "execution_count": 44,
   "metadata": {},
   "outputs": [
    {
     "data": {
      "text/plain": [
       "'Transform sentences to word embeddings'"
      ]
     },
     "execution_count": 44,
     "metadata": {},
     "output_type": "execute_result"
    }
   ],
   "source": [
    "'''Transform sentences to word embeddings'''"
   ]
  },
  {
   "cell_type": "code",
   "execution_count": 45,
   "metadata": {},
   "outputs": [],
   "source": [
    "import gensim"
   ]
  },
  {
   "cell_type": "code",
   "execution_count": 46,
   "metadata": {},
   "outputs": [],
   "source": [
    "google_300 = gensim.models.KeyedVectors.load_word2vec_format( \"/Users/kram/Downloads/botOrNot-en_es/google_w2v_300.bin\" , binary=True )\n"
   ]
  },
  {
   "cell_type": "code",
   "execution_count": 47,
   "metadata": {},
   "outputs": [
    {
     "data": {
      "text/plain": [
       "'Trasformo le frasi'"
      ]
     },
     "execution_count": 47,
     "metadata": {},
     "output_type": "execute_result"
    }
   ],
   "source": [
    "'''Trasformo le frasi'''"
   ]
  },
  {
   "cell_type": "code",
   "execution_count": 104,
   "metadata": {},
   "outputs": [],
   "source": [
    "from nltk.tokenize import TweetTokenizer as TweetTokenizer\n",
    "from nltk.corpus import stopwords\n",
    "import random as rn\n",
    "stop_words = set(stopwords.words('english'))\n",
    "\n",
    "matrixTweetsEmb = []\n",
    "for tweetsUser in matrixTweets:\n",
    "    embTweetsUser = []\n",
    "\n",
    "    for tweet in tweetsUser:\n",
    "        embTweetUser = np.zeros([50,300])\n",
    "        #Preprocesso\n",
    "        tokList = text_processor.pre_process_doc(tweet)\n",
    "        #Rimuovo le stopwords\n",
    "        tokList = [w for w in tokList if not w in stop_words]\n",
    "        #trovo l'embedding\n",
    "        numTok = 0;\n",
    "        for token in tokList[0:50]:\n",
    "            g_vec =[]\n",
    "            is_in_model = False\n",
    "            if token in google_300.vocab.keys ( ):\n",
    "                is_in_model = True\n",
    "                g_vec = google_300.word_vec(token)\n",
    "            elif token == \"<number>\":\n",
    "                is_in_model = True\n",
    "                g_vec = google_300.word_vec( \"number\")\n",
    "            elif token == \"<percent>\":\n",
    "                is_in_model = True\n",
    "                g_vec = google_300.word_vec(\"percent\")\n",
    "            elif token == \"<money>\":\n",
    "                is_in_model = True\n",
    "                g_vec = google_300.word_vec(\"money\")\n",
    "            elif token == \"<email>\":\n",
    "                is_in_model = True\n",
    "                g_vec = google_300.word_vec(\"email\")\n",
    "            elif token == \"<phone>\":\n",
    "                is_in_model = True\n",
    "                g_vec = google_300.word_vec(\"phone\")\n",
    "            elif token == \"<time>\":\n",
    "                is_in_model = True\n",
    "                g_vec = google_300.word_vec(\"time\")\n",
    "            elif token == \"<date>\":\n",
    "                is_in_model = True\n",
    "                g_vec = google_300.word_vec(\"date\")\n",
    "            elif token == \"<url>\":\n",
    "                is_in_model = True\n",
    "                g_vec = google_300.word_vec(\"url\")\n",
    "            elif not is_in_model:\n",
    "                max = len ( google_300.vocab.keys ( ) ) - 1\n",
    "                index = rn.randint ( 0 , max )\n",
    "                word = google_300.index2word[ index ]\n",
    "                g_vec = google_300.word_vec( word )\n",
    "\n",
    "            embTweetUser[numTok] = np.array(g_vec)\n",
    "            numTok += 1\n",
    "        embTweetsUser.append(np.array(embTweetUser))\n",
    "        \n",
    "        \n",
    "        \n",
    "    matrixTweetsEmb.append(np.array(embTweetsUser))\n"
   ]
  },
  {
   "cell_type": "code",
   "execution_count": 105,
   "metadata": {},
   "outputs": [
    {
     "name": "stdout",
     "output_type": "stream",
     "text": [
      "(4119, 100, 50, 300)\n"
     ]
    }
   ],
   "source": [
    "'''Num Utenti x Num Tweets x Num MaxTokens x Dim Embedding'''\n",
    "import numpy as np \n",
    "matrixTweetsEmb = np.array(matrixTweetsEmb)\n",
    "print(matrixTweetsEmb.shape)"
   ]
  },
  {
   "cell_type": "code",
   "execution_count": 108,
   "metadata": {},
   "outputs": [
    {
     "name": "stdout",
     "output_type": "stream",
     "text": [
      "Requirement already satisfied: joblib in /Users/kram/anaconda3/lib/python3.6/site-packages (0.13.1)\n",
      "\u001b[33mYou are using pip version 18.1, however version 19.0.1 is available.\n",
      "You should consider upgrading via the 'pip install --upgrade pip' command.\u001b[0m\n"
     ]
    },
    {
     "data": {
      "text/plain": [
       "['matrixTweetsEmb_4177_100_50_300.dump']"
      ]
     },
     "execution_count": 108,
     "metadata": {},
     "output_type": "execute_result"
    }
   ],
   "source": [
    "!{sys.executable} -m pip install joblib\n",
    "import joblib\n",
    "joblib.dump(matrixTweetsEmb,'matrixTweetsEmb_4177_100_50_300.dump')"
   ]
  },
  {
   "cell_type": "code",
   "execution_count": 125,
   "metadata": {},
   "outputs": [
    {
     "name": "stdout",
     "output_type": "stream",
     "text": [
      "_________________________________________________________________\n",
      "Layer (type)                 Output Shape              Param #   \n",
      "=================================================================\n",
      "conv2d_20 (Conv2D)           (None, 96, 46, 200)       1500200   \n",
      "_________________________________________________________________\n",
      "max_pooling2d_20 (MaxPooling (None, 48, 23, 200)       0         \n",
      "_________________________________________________________________\n",
      "conv2d_21 (Conv2D)           (None, 44, 20, 100)       400100    \n",
      "_________________________________________________________________\n",
      "max_pooling2d_21 (MaxPooling (None, 22, 10, 100)       0         \n",
      "_________________________________________________________________\n",
      "conv2d_22 (Conv2D)           (None, 20, 8, 20)         18020     \n",
      "_________________________________________________________________\n",
      "max_pooling2d_22 (MaxPooling (None, 10, 4, 20)         0         \n",
      "_________________________________________________________________\n",
      "flatten_12 (Flatten)         (None, 800)               0         \n",
      "_________________________________________________________________\n",
      "dense_1 (Dense)              (None, 400)               320400    \n",
      "_________________________________________________________________\n",
      "dense_2 (Dense)              (None, 200)               80200     \n",
      "_________________________________________________________________\n",
      "dense_3 (Dense)              (None, 100)               20100     \n",
      "_________________________________________________________________\n",
      "dense_4 (Dense)              (None, 2)                 202       \n",
      "=================================================================\n",
      "Total params: 2,339,222\n",
      "Trainable params: 2,339,222\n",
      "Non-trainable params: 0\n",
      "_________________________________________________________________\n"
     ]
    }
   ],
   "source": [
    "from keras.layers import *\n",
    "from keras.models import Sequential\n",
    "model = Sequential()\n",
    "model.add(Conv2D(200,(5,5), activation ='relu', input_shape=(100,50,300)))\n",
    "model.add(MaxPool2D(2,2))\n",
    "model.add(Conv2D(100,(5,4), activation ='relu'))\n",
    "model.add(MaxPool2D(2,2))\n",
    "model.add(Conv2D(20,(3,3), activation ='relu'))\n",
    "model.add(MaxPool2D(2,2))\n",
    "model.add(Flatten())\n",
    "model.add(Dense(400, activation=\"tanh\"))\n",
    "model.add(Dense(200, activation=\"tanh\"))\n",
    "model.add(Dense(100, activation=\"tanh\"))\n",
    "model.add(Dense(2, activation=\"softmax\"))\n",
    "model.summary()"
   ]
  },
  {
   "cell_type": "code",
   "execution_count": 129,
   "metadata": {},
   "outputs": [
    {
     "name": "stdout",
     "output_type": "stream",
     "text": [
      "Requirement already satisfied: category_encoders in /Users/kram/anaconda3/lib/python3.6/site-packages (1.3.0)\n",
      "Requirement already satisfied: numpy>=1.11.1 in /Users/kram/anaconda3/lib/python3.6/site-packages (from category_encoders) (1.16.0)\n",
      "Requirement already satisfied: scikit-learn>=0.17.1 in /Users/kram/anaconda3/lib/python3.6/site-packages (from category_encoders) (0.19.1)\n",
      "Requirement already satisfied: scipy>=0.17.0 in /Users/kram/anaconda3/lib/python3.6/site-packages (from category_encoders) (1.1.0)\n",
      "Requirement already satisfied: statsmodels>=0.6.1 in /Users/kram/anaconda3/lib/python3.6/site-packages (from category_encoders) (0.9.0)\n",
      "Requirement already satisfied: pandas>=0.20.1 in /Users/kram/anaconda3/lib/python3.6/site-packages (from category_encoders) (0.22.0)\n",
      "Requirement already satisfied: patsy>=0.4.1 in /Users/kram/anaconda3/lib/python3.6/site-packages (from category_encoders) (0.5.0)\n",
      "Requirement already satisfied: python-dateutil>=2 in /Users/kram/anaconda3/lib/python3.6/site-packages (from pandas>=0.20.1->category_encoders) (2.7.3)\n",
      "Requirement already satisfied: pytz>=2011k in /Users/kram/anaconda3/lib/python3.6/site-packages (from pandas>=0.20.1->category_encoders) (2018.4)\n",
      "Requirement already satisfied: six in /Users/kram/anaconda3/lib/python3.6/site-packages (from patsy>=0.4.1->category_encoders) (1.11.0)\n",
      "\u001b[33mYou are using pip version 18.1, however version 19.0.1 is available.\n",
      "You should consider upgrading via the 'pip install --upgrade pip' command.\u001b[0m\n",
      "[{'col': 0, 'mapping': [('human', 1), ('bot', 2)]}]\n"
     ]
    }
   ],
   "source": [
    "!{sys.executable} -m pip install category_encoders\n",
    "import category_encoders as ce\n",
    "le =  ce.OneHotEncoder(return_df=False, impute_missing=False, handle_unknown=\"ignore\")\n",
    "training_classes = le.fit_transform(listaClasses)\n",
    "print(le.category_mapping)\n"
   ]
  },
  {
   "cell_type": "code",
   "execution_count": null,
   "metadata": {},
   "outputs": [
    {
     "name": "stdout",
     "output_type": "stream",
     "text": [
      "Train on 3295 samples, validate on 824 samples\n",
      "Epoch 1/1\n"
     ]
    }
   ],
   "source": [
    "model.compile ( loss='categorical_crossentropy' , optimizer='adam' , metrics=['accuracy'] )\n",
    "\n",
    "history = model.fit(matrixTweetsEmb,training_classes,64,1,\n",
    "                      validation_split= 0.15 ,\n",
    "                      verbose=1)"
   ]
  },
  {
   "cell_type": "code",
   "execution_count": null,
   "metadata": {},
   "outputs": [],
   "source": []
  }
 ],
 "metadata": {
  "kernelspec": {
   "display_name": "Python 3",
   "language": "python",
   "name": "python3"
  },
  "language_info": {
   "codemirror_mode": {
    "name": "ipython",
    "version": 3
   },
   "file_extension": ".py",
   "mimetype": "text/x-python",
   "name": "python",
   "nbconvert_exporter": "python",
   "pygments_lexer": "ipython3",
   "version": "3.6.8"
  },
  "toc": {
   "base_numbering": 1,
   "nav_menu": {},
   "number_sections": true,
   "sideBar": true,
   "skip_h1_title": false,
   "title_cell": "Table of Contents",
   "title_sidebar": "Contents",
   "toc_cell": false,
   "toc_position": {},
   "toc_section_display": true,
   "toc_window_display": false
  }
 },
 "nbformat": 4,
 "nbformat_minor": 2
}
